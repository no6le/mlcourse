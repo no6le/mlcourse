{
 "cells": [
  {
   "cell_type": "markdown",
   "metadata": {},
   "source": [
    "<center>\n",
    "<img src=\"../../img/ods_stickers.jpg\">\n",
    "## Открытый курс по машинному обучению. Сессия № 3\n",
    "Автор материала: программист-исследователь Mail.ru Group, старший преподаватель Факультета Компьютерных Наук ВШЭ Юрий Кашницкий. Материал распространяется на условиях лицензии [Creative Commons CC BY-NC-SA 4.0](https://creativecommons.org/licenses/by-nc-sa/4.0/). Можно использовать в любых целях (редактировать, поправлять и брать за основу), кроме коммерческих, но с обязательным упоминанием автора материала."
   ]
  },
  {
   "cell_type": "markdown",
   "metadata": {},
   "source": [
    "# <center> Домашнее задание № 1\n",
    "## <center> Анализ данных по сердечно-сосудистым заболеваниям\n",
    "*Идеальный просмотр Jupyter notebooks возможен только локально, GitHub и nbviewer могут неправильно отбражать формулы или картинки.*"
   ]
  },
  {
   "cell_type": "markdown",
   "metadata": {},
   "source": [
    "**В задании предлагается с помощью Pandas ответить на несколько вопросов по данным о сердечно-сосудистых заболеваниях (качать данные не надо, они уже есть в репозитории). Данные использовались в соревновании [Ml Boot Camp 5](http://mlbootcamp.ru/round/12/sandbox/).**\n",
    "\n",
    "**Заполните код в клетках (где написано \"Ваш код здесь\") и ответьте на вопросы в [веб-форме](https://docs.google.com/forms/d/1KbWiGlupiSwYlqc8nmV6KjB3vNTI0C5hxZ6Tq3ZU4QA).**"
   ]
  },
  {
   "cell_type": "markdown",
   "metadata": {},
   "source": [
    "В соревновании предлагалось определить наличие/отсутствие сердечно-сосудистых заболеваний (ССЗ) по результатам осмотра пациента.\n",
    "\n",
    "**Описание данных.**\n",
    "\n",
    "Датасет сформирован из реальных клинических анализов, и в нём используются признаки, которые можно разбить на 3 группы:\n",
    "\n",
    "Объективные признаки:\n",
    "\n",
    " - Возраст (age)\n",
    " - Рост (height)\n",
    " - Вес (weight)\n",
    " - Пол (gender)\n",
    " \n",
    "\n",
    "Результаты измерения:\n",
    "\n",
    " - Артериальное давление верхнее и нижнее (ap_hi, ap_lo)\n",
    " - Холестерин (cholesterol)\n",
    " - Глюкоза (gluc)\n",
    " \n",
    "\n",
    "Субъективные признаки (со слов пациентов):\n",
    "\n",
    " - Курение (smoke)\n",
    " - Употребление алкоголя (alco)\n",
    " - Физическая активность (active)\n",
    " \n",
    "Целевой признак (который интересно будет прогнозировать):\n",
    " - Наличие сердечно-сосудистых заболеваний по результатам классического врачебного осмотра (cardio)\n",
    "\n",
    "Значения показателей холестерина и глюкозы представлены одним из трех классов: норма, выше нормы, значительно выше нормы. Значения субъективных признаков — бинарны.\n",
    "\n",
    "Все показатели даны на момент осмотра.\n",
    "\n",
    "Мы будем работать только с обучающей выборкой и с помощью `Pandas` проведем первичный анализ данных. "
   ]
  },
  {
   "cell_type": "markdown",
   "metadata": {},
   "source": [
    "Из библиотек нам понадобятся только `NumPy` и `Pandas`."
   ]
  },
  {
   "cell_type": "code",
   "execution_count": 4,
   "metadata": {
    "collapsed": true
   },
   "outputs": [],
   "source": [
    "import numpy as np\n",
    "import pandas as pd"
   ]
  },
  {
   "cell_type": "markdown",
   "metadata": {},
   "source": [
    "Считываем данные из CSV-файла в объект pandas DataFrame.  "
   ]
  },
  {
   "cell_type": "code",
   "execution_count": 5,
   "metadata": {
    "collapsed": true
   },
   "outputs": [],
   "source": [
    "df = pd.read_csv('../../data/mlbootcamp5_train.csv', sep=';', \n",
    "                 index_col='id')"
   ]
  },
  {
   "cell_type": "markdown",
   "metadata": {},
   "source": [
    "Посмотрим на первые 5 записей."
   ]
  },
  {
   "cell_type": "code",
   "execution_count": 55,
   "metadata": {},
   "outputs": [
    {
     "data": {
      "text/html": [
       "<div>\n",
       "<style>\n",
       "    .dataframe thead tr:only-child th {\n",
       "        text-align: right;\n",
       "    }\n",
       "\n",
       "    .dataframe thead th {\n",
       "        text-align: left;\n",
       "    }\n",
       "\n",
       "    .dataframe tbody tr th {\n",
       "        vertical-align: top;\n",
       "    }\n",
       "</style>\n",
       "<table border=\"1\" class=\"dataframe\">\n",
       "  <thead>\n",
       "    <tr style=\"text-align: right;\">\n",
       "      <th></th>\n",
       "      <th>age</th>\n",
       "      <th>gender</th>\n",
       "      <th>height</th>\n",
       "      <th>weight</th>\n",
       "      <th>ap_hi</th>\n",
       "      <th>ap_lo</th>\n",
       "      <th>cholesterol</th>\n",
       "      <th>gluc</th>\n",
       "      <th>smoke</th>\n",
       "      <th>alco</th>\n",
       "      <th>active</th>\n",
       "      <th>cardio</th>\n",
       "    </tr>\n",
       "  </thead>\n",
       "  <tbody>\n",
       "    <tr>\n",
       "      <th>count</th>\n",
       "      <td>70000.000000</td>\n",
       "      <td>70000.000000</td>\n",
       "      <td>70000.000000</td>\n",
       "      <td>70000.000000</td>\n",
       "      <td>70000.000000</td>\n",
       "      <td>70000.000000</td>\n",
       "      <td>70000.000000</td>\n",
       "      <td>70000.000000</td>\n",
       "      <td>70000.000000</td>\n",
       "      <td>70000.000000</td>\n",
       "      <td>70000.000000</td>\n",
       "      <td>70000.000000</td>\n",
       "    </tr>\n",
       "    <tr>\n",
       "      <th>mean</th>\n",
       "      <td>19468.865814</td>\n",
       "      <td>1.349571</td>\n",
       "      <td>164.359229</td>\n",
       "      <td>74.205690</td>\n",
       "      <td>128.817286</td>\n",
       "      <td>96.630414</td>\n",
       "      <td>1.366871</td>\n",
       "      <td>1.226457</td>\n",
       "      <td>0.088129</td>\n",
       "      <td>0.053771</td>\n",
       "      <td>0.803729</td>\n",
       "      <td>0.499700</td>\n",
       "    </tr>\n",
       "    <tr>\n",
       "      <th>std</th>\n",
       "      <td>2467.251667</td>\n",
       "      <td>0.476838</td>\n",
       "      <td>8.210126</td>\n",
       "      <td>14.395757</td>\n",
       "      <td>154.011419</td>\n",
       "      <td>188.472530</td>\n",
       "      <td>0.680250</td>\n",
       "      <td>0.572270</td>\n",
       "      <td>0.283484</td>\n",
       "      <td>0.225568</td>\n",
       "      <td>0.397179</td>\n",
       "      <td>0.500003</td>\n",
       "    </tr>\n",
       "    <tr>\n",
       "      <th>min</th>\n",
       "      <td>10798.000000</td>\n",
       "      <td>1.000000</td>\n",
       "      <td>55.000000</td>\n",
       "      <td>10.000000</td>\n",
       "      <td>-150.000000</td>\n",
       "      <td>-70.000000</td>\n",
       "      <td>1.000000</td>\n",
       "      <td>1.000000</td>\n",
       "      <td>0.000000</td>\n",
       "      <td>0.000000</td>\n",
       "      <td>0.000000</td>\n",
       "      <td>0.000000</td>\n",
       "    </tr>\n",
       "    <tr>\n",
       "      <th>25%</th>\n",
       "      <td>17664.000000</td>\n",
       "      <td>1.000000</td>\n",
       "      <td>159.000000</td>\n",
       "      <td>65.000000</td>\n",
       "      <td>120.000000</td>\n",
       "      <td>80.000000</td>\n",
       "      <td>1.000000</td>\n",
       "      <td>1.000000</td>\n",
       "      <td>0.000000</td>\n",
       "      <td>0.000000</td>\n",
       "      <td>1.000000</td>\n",
       "      <td>0.000000</td>\n",
       "    </tr>\n",
       "    <tr>\n",
       "      <th>50%</th>\n",
       "      <td>19703.000000</td>\n",
       "      <td>1.000000</td>\n",
       "      <td>165.000000</td>\n",
       "      <td>72.000000</td>\n",
       "      <td>120.000000</td>\n",
       "      <td>80.000000</td>\n",
       "      <td>1.000000</td>\n",
       "      <td>1.000000</td>\n",
       "      <td>0.000000</td>\n",
       "      <td>0.000000</td>\n",
       "      <td>1.000000</td>\n",
       "      <td>0.000000</td>\n",
       "    </tr>\n",
       "    <tr>\n",
       "      <th>75%</th>\n",
       "      <td>21327.000000</td>\n",
       "      <td>2.000000</td>\n",
       "      <td>170.000000</td>\n",
       "      <td>82.000000</td>\n",
       "      <td>140.000000</td>\n",
       "      <td>90.000000</td>\n",
       "      <td>2.000000</td>\n",
       "      <td>1.000000</td>\n",
       "      <td>0.000000</td>\n",
       "      <td>0.000000</td>\n",
       "      <td>1.000000</td>\n",
       "      <td>1.000000</td>\n",
       "    </tr>\n",
       "    <tr>\n",
       "      <th>max</th>\n",
       "      <td>23713.000000</td>\n",
       "      <td>2.000000</td>\n",
       "      <td>250.000000</td>\n",
       "      <td>200.000000</td>\n",
       "      <td>16020.000000</td>\n",
       "      <td>11000.000000</td>\n",
       "      <td>3.000000</td>\n",
       "      <td>3.000000</td>\n",
       "      <td>1.000000</td>\n",
       "      <td>1.000000</td>\n",
       "      <td>1.000000</td>\n",
       "      <td>1.000000</td>\n",
       "    </tr>\n",
       "  </tbody>\n",
       "</table>\n",
       "</div>"
      ],
      "text/plain": [
       "                age        gender        height        weight         ap_hi  \\\n",
       "count  70000.000000  70000.000000  70000.000000  70000.000000  70000.000000   \n",
       "mean   19468.865814      1.349571    164.359229     74.205690    128.817286   \n",
       "std     2467.251667      0.476838      8.210126     14.395757    154.011419   \n",
       "min    10798.000000      1.000000     55.000000     10.000000   -150.000000   \n",
       "25%    17664.000000      1.000000    159.000000     65.000000    120.000000   \n",
       "50%    19703.000000      1.000000    165.000000     72.000000    120.000000   \n",
       "75%    21327.000000      2.000000    170.000000     82.000000    140.000000   \n",
       "max    23713.000000      2.000000    250.000000    200.000000  16020.000000   \n",
       "\n",
       "              ap_lo   cholesterol          gluc         smoke          alco  \\\n",
       "count  70000.000000  70000.000000  70000.000000  70000.000000  70000.000000   \n",
       "mean      96.630414      1.366871      1.226457      0.088129      0.053771   \n",
       "std      188.472530      0.680250      0.572270      0.283484      0.225568   \n",
       "min      -70.000000      1.000000      1.000000      0.000000      0.000000   \n",
       "25%       80.000000      1.000000      1.000000      0.000000      0.000000   \n",
       "50%       80.000000      1.000000      1.000000      0.000000      0.000000   \n",
       "75%       90.000000      2.000000      1.000000      0.000000      0.000000   \n",
       "max    11000.000000      3.000000      3.000000      1.000000      1.000000   \n",
       "\n",
       "             active        cardio  \n",
       "count  70000.000000  70000.000000  \n",
       "mean       0.803729      0.499700  \n",
       "std        0.397179      0.500003  \n",
       "min        0.000000      0.000000  \n",
       "25%        1.000000      0.000000  \n",
       "50%        1.000000      0.000000  \n",
       "75%        1.000000      1.000000  \n",
       "max        1.000000      1.000000  "
      ]
     },
     "execution_count": 55,
     "metadata": {},
     "output_type": "execute_result"
    }
   ],
   "source": [
    "df.describe()"
   ]
  },
  {
   "cell_type": "markdown",
   "metadata": {},
   "source": [
    "**<font color='red'>Вопрос 1 (1 балл).</font> Сколько мужчин и женщин представлено в этом наборе данных? Не было дано расшифровки признака \"пол\" (какому полу соответствует 1, а какому – 2 в признаке ``gender``) – это определите, посмотрев также на рост при разумном предположении, что в среднем мужчины выше (здесь и далее под средним понимается среднее арифметическое).**"
   ]
  },
  {
   "cell_type": "markdown",
   "metadata": {},
   "source": [
    "**<font color='red'>Варианты:</font>**\n",
    "- 45470 женщин и 24530 мужчин\n",
    "- 45470 мужчин и 24530 женщин\n",
    "- **45530 женщин и 24470 мужчин**\n",
    "- 45530 мужчин и 24470 женщин"
   ]
  },
  {
   "cell_type": "code",
   "execution_count": 74,
   "metadata": {},
   "outputs": [
    {
     "name": "stdout",
     "output_type": "stream",
     "text": [
      "Данные для Gender = 1 Женщины \n",
      "\n",
      "Количество Count 45530\n",
      "Средний height 161.35561168460356\n",
      "Медиана height 161.0\n",
      "min height 55\n",
      "max height 250 \n",
      " \n",
      "\n",
      "Данные для Gender = 2 Мужчины \n",
      "\n",
      "Количество Count 24470\n",
      "Средний height 169.94789538210054\n",
      "Медиана height 170.0\n",
      "min height 65\n",
      "max height 207\n",
      "\n",
      " \n",
      "\n",
      "161.35561168460356 1.0\n",
      "169.94789538210054 2.0\n"
     ]
    }
   ],
   "source": [
    "print('Данные для Gender = 1 Женщины', '\\n')\n",
    "print('Количество Count', df[df['gender'] == 1]['height'].count())\n",
    "print('Средний height', df[df['gender'] == 1]['height'].mean())\n",
    "print('Медиана height', df[df['gender'] == 1]['height'].median())\n",
    "print('min height', df[df['gender'] == 1]['height'].min())\n",
    "print('max height', df[df['gender'] == 1]['height'].max(), '\\n', '\\n')\n",
    "\n",
    "print('Данные для Gender = 2 Мужчины', '\\n')\n",
    "print('Количество Count', df[df['gender'] == 2]['height'].count())\n",
    "print('Средний height', df[df['gender'] == 2]['height'].mean())\n",
    "print('Медиана height', df[df['gender'] == 2]['height'].median())\n",
    "print('min height', df[df['gender'] == 2]['height'].min())\n",
    "print('max height', df[df['gender'] == 2]['height'].max())\n",
    "\n",
    "print('\\n', '\\n')\n",
    "\n",
    "g = df.groupby('gender') \n",
    "for (i, sub_df) in g:\n",
    "    print(sub_df['height'].mean(), sub_df['gender'].mean())"
   ]
  },
  {
   "cell_type": "markdown",
   "metadata": {},
   "source": [
    "**<font color='red'>Вопрос 2 (1 балл).</font> Кто в среднем реже указывает, что употребляет алкоголь – мужчины или женщины?**"
   ]
  },
  {
   "cell_type": "code",
   "execution_count": 56,
   "metadata": {},
   "outputs": [
    {
     "name": "stdout",
     "output_type": "stream",
     "text": [
      "Для Gender = 1 Женщины\n",
      "В среднем употребляет алкоголь каждая 0.02549967054689216 \n",
      "\n",
      "Для Gender = 2 Мужчины\n",
      "В среднем употребляет алкоголь каждый 0.10637515324887617 \n",
      "\n"
     ]
    }
   ],
   "source": [
    "print('Для Gender = 1 Женщины')\n",
    "print('В среднем употребляет алкоголь каждая', df[df['gender'] == 1]['alco'].mean(), '\\n')\n",
    "print('Для Gender = 2 Мужчины')\n",
    "print('В среднем употребляет алкоголь каждый', df[df['gender'] == 2]['alco'].mean(), '\\n')\n",
    "\n"
   ]
  },
  {
   "cell_type": "markdown",
   "metadata": {},
   "source": [
    "**<font color='red'>Вопрос 3 (1 балл).</font> Во сколько раз (округленно, `round`) процент курящих среди мужчин больше, чем процент курящих среди женщин (по крайней мере, по этим анкетным данным)?**"
   ]
  },
  {
   "cell_type": "markdown",
   "metadata": {},
   "source": [
    "**<font color='red'>Варианты:</font>**\n",
    "- 4\n",
    "- 8\n",
    "- **12**\n",
    "- 16"
   ]
  },
  {
   "cell_type": "code",
   "execution_count": 72,
   "metadata": {},
   "outputs": [
    {
     "data": {
      "text/plain": [
       "12"
      ]
     },
     "execution_count": 72,
     "metadata": {},
     "output_type": "execute_result"
    }
   ],
   "source": [
    "round(df[df['gender'] == 2]['smoke'].mean() / df[df['gender'] == 1]['smoke'].mean())\n"
   ]
  },
  {
   "cell_type": "markdown",
   "metadata": {},
   "source": [
    "**<font color='red'>Вопрос 4 (1 балл).</font> Вы наверняка заметили, что значения возраста какие-то странные. Догадайтесь, в чём здесь измеряется возраст, и ответьте, на сколько месяцев (примерно) отличаются медианные значения возраста курящих и некурящих.**"
   ]
  },
  {
   "cell_type": "markdown",
   "metadata": {},
   "source": [
    "**<font color='red'>Варианты:</font>**\n",
    "- 10\n",
    "- 15\n",
    "- **20**\n",
    "- 25"
   ]
  },
  {
   "cell_type": "code",
   "execution_count": 2,
   "metadata": {},
   "outputs": [
    {
     "ename": "NameError",
     "evalue": "name 'df' is not defined",
     "output_type": "error",
     "traceback": [
      "\u001b[1;31m---------------------------------------------------------------------------\u001b[0m",
      "\u001b[1;31mNameError\u001b[0m                                 Traceback (most recent call last)",
      "\u001b[1;32m<ipython-input-2-d236ebaa28b7>\u001b[0m in \u001b[0;36m<module>\u001b[1;34m()\u001b[0m\n\u001b[1;32m----> 1\u001b[1;33m \u001b[0mdf\u001b[0m\u001b[1;33m[\u001b[0m\u001b[1;34m'years'\u001b[0m\u001b[1;33m]\u001b[0m \u001b[1;33m=\u001b[0m \u001b[0mdf\u001b[0m\u001b[1;33m[\u001b[0m\u001b[1;34m'age'\u001b[0m\u001b[1;33m]\u001b[0m \u001b[1;33m/\u001b[0m \u001b[1;36m365.25\u001b[0m\u001b[1;33m\u001b[0m\u001b[0m\n\u001b[0m\u001b[0;32m      2\u001b[0m \u001b[0mprint\u001b[0m\u001b[1;33m(\u001b[0m\u001b[1;34m'Медиана возраста курящих'\u001b[0m\u001b[1;33m,\u001b[0m \u001b[0mdf\u001b[0m\u001b[1;33m[\u001b[0m\u001b[0mdf\u001b[0m\u001b[1;33m[\u001b[0m\u001b[1;34m'smoke'\u001b[0m\u001b[1;33m]\u001b[0m \u001b[1;33m==\u001b[0m \u001b[1;36m1\u001b[0m\u001b[1;33m]\u001b[0m\u001b[1;33m[\u001b[0m\u001b[1;34m'years'\u001b[0m\u001b[1;33m]\u001b[0m\u001b[1;33m.\u001b[0m\u001b[0mmedian\u001b[0m\u001b[1;33m(\u001b[0m\u001b[1;33m)\u001b[0m\u001b[1;33m,\u001b[0m \u001b[1;34m'\\n'\u001b[0m\u001b[1;33m)\u001b[0m\u001b[1;33m\u001b[0m\u001b[0m\n\u001b[0;32m      3\u001b[0m \u001b[0mprint\u001b[0m\u001b[1;33m(\u001b[0m\u001b[1;34m'Медиана возраста некурящих'\u001b[0m\u001b[1;33m,\u001b[0m \u001b[0mdf\u001b[0m\u001b[1;33m[\u001b[0m\u001b[0mdf\u001b[0m\u001b[1;33m[\u001b[0m\u001b[1;34m'smoke'\u001b[0m\u001b[1;33m]\u001b[0m \u001b[1;33m==\u001b[0m \u001b[1;36m0\u001b[0m\u001b[1;33m]\u001b[0m\u001b[1;33m[\u001b[0m\u001b[1;34m'years'\u001b[0m\u001b[1;33m]\u001b[0m\u001b[1;33m.\u001b[0m\u001b[0mmedian\u001b[0m\u001b[1;33m(\u001b[0m\u001b[1;33m)\u001b[0m\u001b[1;33m,\u001b[0m \u001b[1;34m'\\n'\u001b[0m\u001b[1;33m)\u001b[0m\u001b[1;33m\u001b[0m\u001b[0m\n\u001b[0;32m      4\u001b[0m \u001b[1;33m\u001b[0m\u001b[0m\n\u001b[0;32m      5\u001b[0m \u001b[0mprint\u001b[0m \u001b[1;33m(\u001b[0m\u001b[1;33m(\u001b[0m\u001b[0mdf\u001b[0m\u001b[1;33m[\u001b[0m\u001b[0mdf\u001b[0m\u001b[1;33m[\u001b[0m\u001b[1;34m'smoke'\u001b[0m\u001b[1;33m]\u001b[0m \u001b[1;33m==\u001b[0m \u001b[1;36m1\u001b[0m\u001b[1;33m]\u001b[0m\u001b[1;33m[\u001b[0m\u001b[1;34m'years'\u001b[0m\u001b[1;33m]\u001b[0m\u001b[1;33m.\u001b[0m\u001b[0mmedian\u001b[0m\u001b[1;33m(\u001b[0m\u001b[1;33m)\u001b[0m \u001b[1;33m-\u001b[0m \u001b[0mdf\u001b[0m\u001b[1;33m[\u001b[0m\u001b[0mdf\u001b[0m\u001b[1;33m[\u001b[0m\u001b[1;34m'smoke'\u001b[0m\u001b[1;33m]\u001b[0m \u001b[1;33m==\u001b[0m \u001b[1;36m0\u001b[0m\u001b[1;33m]\u001b[0m\u001b[1;33m[\u001b[0m\u001b[1;34m'years'\u001b[0m\u001b[1;33m]\u001b[0m\u001b[1;33m.\u001b[0m\u001b[0mmedian\u001b[0m\u001b[1;33m(\u001b[0m\u001b[1;33m)\u001b[0m\u001b[1;33m)\u001b[0m \u001b[1;33m*\u001b[0m \u001b[1;36m12\u001b[0m\u001b[1;33m)\u001b[0m\u001b[1;33m\u001b[0m\u001b[0m\n",
      "\u001b[1;31mNameError\u001b[0m: name 'df' is not defined"
     ]
    }
   ],
   "source": [
    "df['years'] = df['age'] / 365.25\n",
    "print('Медиана возраста курящих', df[df['smoke'] == 1]['years'].median(), '\\n')\n",
    "print('Медиана возраста некурящих', df[df['smoke'] == 0]['years'].median(), '\\n')\n",
    "\n",
    "print ((df[df['smoke'] == 1]['years'].median() - df[df['smoke'] == 0]['years'].median()) * 12)\n",
    "\n"
   ]
  },
  {
   "cell_type": "markdown",
   "metadata": {},
   "source": [
    "**<font color='red'>Вопрос 5 (2 балла).</font> В [статье](https://ru.wikipedia.org/wiki/Сердечно-сосудистый_риск) на Википедии про сердечно-сосудистый риск показана шкала SCORE для расчёта риска смерти от сердечно-сосудистого заболевания в ближайшие 10 лет. Вот она:**\n",
    "<img src='https://habrastorage.org/webt/gg/38/vf/gg38vfl5ql8obqjmlsvt9es76p8.png' width=70%>\n",
    "\n",
    "Давайте посмотрим на правый верхний прямоугольник, отображающий сегмент курящих мужчин в возрасте от 60 до 64 лет включительно. (Неочевидно, но тут для возраста и давления цифры означают верхнюю границу, и она не включается).\n",
    "\n",
    "Видим 9-ку в левом нижнем углу этого прямоугольника и 47 – в правом верхнем. То есть если при этом систолическое (т.е. верхнее) артериальное давление – меньше 120 мм рт.ст., а уровень холестерина – 4 ммоль/л, то риск ССЗ оценивается примерно в 5 раз ниже, чем если бы давление лежало в интервале [160, 180), а холестерина было бы 8 ммоль/л.\n",
    "\n",
    "Давайте посчитаем аналогичное значение, но на наших данных. \n",
    "\n",
    "Уточнения:\n",
    "- Создайте новый признак ``age_years`` – возраст в годах, округлив до целых (`round`). Для данного примера отберите курящих мужчин от 60 до 64 лет включительно\n",
    "- Категории уровня холестрина на рисунке и в наших данных отличаются. Отображение значений на картинке в значения признака ``cholesterol`` следующее: 4 ммоль/л $\\rightarrow$ 1, 5-7 ммоль/л $\\rightarrow$ 2, 8 ммоль/л $\\rightarrow$ 3.\n",
    "- Интересуют 2 подвыборки курящих мужчин возраста от 60 до 64 лет включительно: первая с верхним артериальным давлением строго меньше 120 мм рт.ст. и концентрацией холестерина – 4 ммоль/л, а вторая – с верхним артериальным давлением от 160 (включительно) до 180 мм рт.ст. (не включительно) и концентрацией холестерина – 8 ммоль/л.\n",
    "\n",
    "Во сколько раз (округленно, `round`) отличаются доли больных людей (согласно целевому признаку, `cardio`) в этих двух подвыборках? Посчитайте на наших данных."
   ]
  },
  {
   "cell_type": "markdown",
   "metadata": {},
   "source": [
    "**<font color='red'>Варианты:</font>**\n",
    "- 2\n",
    "- **3**\n",
    "- 4\n",
    "- 5"
   ]
  },
  {
   "cell_type": "code",
   "execution_count": 4,
   "metadata": {},
   "outputs": [
    {
     "data": {
      "text/plain": [
       "3"
      ]
     },
     "execution_count": 4,
     "metadata": {},
     "output_type": "execute_result"
    }
   ],
   "source": [
    "import pandas as pd\n",
    "df = pd.read_csv('../../data/mlbootcamp5_train.csv', sep=';', \n",
    "                 index_col='id')\n",
    "df['age_years'] = round(df['age'] / 365.25)\n",
    "\n",
    "\n",
    "round((df[(df['gender'] == 2) &\n",
    "          (df['smoke'] == 1) &\n",
    "          (df['age_years'] >= 60) &\n",
    "          (df['age_years'] <= 64) &\n",
    "          (df['ap_hi'] < 180) &\n",
    "          (df['ap_hi'] >= 160) &\n",
    "          (df['cholesterol'] == 3)]['cardio'].mean())\n",
    "/\n",
    "    (df[(df['gender'] == 2) &\n",
    "        (df['smoke'] == 1) &\n",
    "        (df['age_years'] >= 60) &\n",
    "        (df['age_years'] <= 64) & \n",
    "        (df['ap_hi'] < 120) &\n",
    "        (df['cholesterol'] == 1)]['cardio'].mean()))\n",
    "\n",
    "\n",
    "\n"
   ]
  },
  {
   "cell_type": "markdown",
   "metadata": {},
   "source": [
    "**<font color='red'>Вопрос 6 (2 балла).</font> Постройте новый признак – BMI ([Body Mass Index](https://en.wikipedia.org/wiki/Body_mass_index)). Для этого надо вес в килограммах поделить на квадрат роста в метрах. Нормальными считаются значения BMI от 18.5 до 25. Выберите верные утверждения.**"
   ]
  },
  {
   "cell_type": "markdown",
   "metadata": {},
   "source": [
    "**<font color='red'>Утверждения:</font>**\n",
    "- **Медианный BMI по выборке превышает норму**\n",
    "- У женщин в среднем BMI ниже, чем у мужчин\n",
    "- У здоровых в среднем BMI выше, чем у больных\n",
    "- **В сегменте здоровых и непьющих мужчин в среднем BMI ближе к норме, чем в сегменте здоровых и непьющих женщин**"
   ]
  },
  {
   "cell_type": "code",
   "execution_count": 221,
   "metadata": {},
   "outputs": [
    {
     "name": "stdout",
     "output_type": "stream",
     "text": [
      "медиана BMI\n",
      "26.37406812077498 \n",
      "\n",
      "Средний BMI женщин минус средний BMI мужчин. У женщин больше\n",
      "1.2331410845436466 \n",
      "\n",
      "Средний BMI здоровых минус средний BMI больных. У здоровых меньше\n",
      "-2.0178854202206864 \n",
      "\n",
      "Средний BMI здоровых и непьющих мужчин\n",
      "25.872638075460173 \n",
      "\n",
      "Средний BMI здоровых и непьющих женщин\n",
      "26.845406594131518 \n",
      "\n"
     ]
    }
   ],
   "source": [
    "df['BMI'] = df['weight'] / df['height'] / df['height'] * 10000\n",
    "\n",
    "print('медиана BMI')\n",
    "print(df['BMI'].median(), '\\n')\n",
    "\n",
    "\n",
    "print ('Средний BMI женщин минус средний BMI мужчин. У женщин больше')\n",
    "print(df[df['gender'] == 1]['BMI'].mean() - df[df['gender'] == 2]['BMI'].mean(), '\\n')\n",
    "\n",
    "print ('Средний BMI здоровых минус средний BMI больных. У здоровых меньше')\n",
    "print(df[df['cardio'] == 0]['BMI'].mean() - df[df['cardio'] == 1]['BMI'].mean(), '\\n')\n",
    "\n",
    "\n",
    "print ('Средний BMI здоровых и непьющих мужчин')\n",
    "print(df[(df['cardio'] == 0) & (df['gender'] == 2) & (df['alco'] == 0)]['BMI'].mean(), '\\n')\n",
    "\n",
    "print ('Средний BMI здоровых и непьющих женщин')\n",
    "print(df[(df['cardio'] == 0) & (df['gender'] == 1) & (df['alco'] == 0)]['BMI'].mean(), '\\n')"
   ]
  },
  {
   "cell_type": "markdown",
   "metadata": {},
   "source": [
    "**<font color='red'>Вопрос 7 (2 балла).</font> ** Можно заметить, что данные не особо-то чистые, много в них всякой \"грязи\" и неточностей. Еще лучше мы это увидим, когда обсудим визуализацию данных.\n",
    "\n",
    "Отфильтруйте следующие сегменты пациентов (считаем это ошибками в данных)\n",
    "- указанное нижнее значение артериального давления строго выше верхнего\n",
    "- рост строго меньше 2.5%-перцентили или строго больше 97.5%-перцентили (используйте `pd.Series.quantile`, если не знаете, что это такое – прочитайте)\n",
    "- вес строго меньше 2.5%-перцентили или строго больше 97.5%-перцентили\n",
    "\n",
    "Этот вовсе не вся чистка данных, которую можно было проделать, но пока остановимся на этом.\n",
    "\n",
    "Сколько процентов данных (округленно, `round`) мы выбросили?"
   ]
  },
  {
   "cell_type": "markdown",
   "metadata": {},
   "source": [
    "**<font color='red'>Варианты:</font>**\n",
    "- 8\n",
    "- 9\n",
    "- **10**\n",
    "- 11"
   ]
  },
  {
   "cell_type": "code",
   "execution_count": 257,
   "metadata": {},
   "outputs": [
    {
     "data": {
      "text/plain": [
       "10.0"
      ]
     },
     "execution_count": 257,
     "metadata": {},
     "output_type": "execute_result"
    }
   ],
   "source": [
    "\n",
    "round(df[\n",
    "    (df['ap_hi'] < df['ap_lo']) |\n",
    "   (df['height'] < df['height'].quantile(0.025)) |\n",
    "   (df['height'] > df['height'].quantile(0.975)) |\n",
    "   (df['weight'] < df['weight'].quantile(0.025)) |\n",
    "   (df['weight'] > df['weight'].quantile(0.975))\n",
    "  ]['gender'].count() / df['gender'].count() * 100)"
   ]
  },
  {
   "cell_type": "code",
   "execution_count": null,
   "metadata": {
    "collapsed": true
   },
   "outputs": [],
   "source": []
  }
 ],
 "metadata": {
  "kernelspec": {
   "display_name": "Python 3",
   "language": "python",
   "name": "python3"
  },
  "language_info": {
   "codemirror_mode": {
    "name": "ipython",
    "version": 3
   },
   "file_extension": ".py",
   "mimetype": "text/x-python",
   "name": "python",
   "nbconvert_exporter": "python",
   "pygments_lexer": "ipython3",
   "version": "3.6.3"
  }
 },
 "nbformat": 4,
 "nbformat_minor": 2
}
